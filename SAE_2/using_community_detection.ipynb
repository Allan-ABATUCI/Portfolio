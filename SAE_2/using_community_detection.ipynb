{
  "metadata": {
    "language_info": {
      "codemirror_mode": {
        "name": "python",
        "version": 3
      },
      "file_extension": ".py",
      "mimetype": "text/x-python",
      "name": "python",
      "nbconvert_exporter": "python",
      "pygments_lexer": "ipython3",
      "version": "3.8"
    },
    "kernelspec": {
      "name": "python",
      "display_name": "Python (Pyodide)",
      "language": "python"
    }
  },
  "nbformat_minor": 4,
  "nbformat": 4,
  "cells": [
    {
      "cell_type": "code",
      "source": "from community_detection import network,dico_reseau\nfrom time import time\n#Les fonctions dico_reseau et create_network ont des algorithmes différents, mais ils font exactement la même chose,\n#create_network est de complexité O(n) alors que dico_reseau est de complexité O(n²)\n\n#comparaison expérimentale\nresams=[\"Alice\", \"Bob\", \"Alice\", \"Charlie\", \"Bob\", \"Denis\"]\ntps=0\ntpss=0\nfor i in range(1000):\n    tic=time()\n    network(resams)\n    tac=time()\n    tps+=tac-tic\nfor i in range(1000):\n    tic = time()\n    dico_reseau(resams)\n    tac = time()\n    tpss+=tac-tic\navrge=tps%1000\nmoyenne=tpss%1000\nprint(\"network :\",round(avrge*1000),\"ms\",\"dico_reseau :\",round(moyenne*1000),\"ms\")",
      "metadata": {},
      "execution_count": null,
      "outputs": []
    },
    {
      "cell_type": "code",
      "source": "from time import time\nfrom community_detection import find_community_by_decreasing_popularity,find_community_from_person\n\n#find_community_by_decreasing_popularity a une complexitée de O(2n²)\n#find_community_from_person O(2n²) mais cette fonction trie un groupe plus petit que les clés du réseau donc est plus rapide\n\n#comparaison expérimentale de find_community_by_decreasing_popularity() et find_community_from_person()\n\nreseau={\"Alice\" : [\"Bob\", \"Dominique\"],\"Bob\" : [\"Alice\", \"Charlie\", \"Dominique\"],\"Charlie\" : [\"Bob\"],\"Dominique\" : [\"Alice\", \"Bob\"]}\ntps=0\ntpss=0\nfor i in range(1000):\n    tic=time()\n    find_community_by_decreasing_popularity(reseau)\n    tac=time()\n    tps+=tac-tic\nfor i in range(1000):\n    tic = time()\n    find_community_from_person(\"Bob\",reseau)\n    tac = time()\n    tpss+=tac-tic\navrge=tps%1000\nmoyenne=tpss%1000\nprint(\"find_community_by_decreasing_popularity :\",round(avrge*1000,2),\"ms\",\"find_community_from_person :\",round(moyenne*1000,2),\"ms\")",
      "metadata": {},
      "execution_count": null,
      "outputs": []
    }
  ]
}